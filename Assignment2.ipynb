{
 "cells": [
  {
   "cell_type": "code",
   "execution_count": 1,
   "id": "3bf521c7",
   "metadata": {},
   "outputs": [
    {
     "name": "stderr",
     "output_type": "stream",
     "text": [
      "[nltk_data] Downloading package vader_lexicon to\n",
      "[nltk_data]     C:\\Users\\16046\\AppData\\Roaming\\nltk_data...\n",
      "[nltk_data]   Package vader_lexicon is already up-to-date!\n"
     ]
    },
    {
     "data": {
      "text/plain": [
       "True"
      ]
     },
     "execution_count": 1,
     "metadata": {},
     "output_type": "execute_result"
    }
   ],
   "source": [
    "import os\n",
    "import nltk\n",
    "from nltk.sentiment.vader import SentimentIntensityAnalyzer\n",
    "from sklearn.metrics import accuracy_score, classification_report\n",
    "nltk.download('vader_lexicon')"
   ]
  },
  {
   "cell_type": "code",
   "execution_count": 2,
   "id": "24d002d3",
   "metadata": {},
   "outputs": [
    {
     "name": "stdout",
     "output_type": "stream",
     "text": [
      "Accuracy: 61.5 %\n",
      "              precision    recall  f1-score   support\n",
      "\n",
      "    negative       0.69      0.44      0.54       100\n",
      "     neutral       0.00      1.00      0.00         0\n",
      "    positive       0.60      0.79      0.68       100\n",
      "\n",
      "    accuracy                           0.61       200\n",
      "   macro avg       0.43      0.74      0.41       200\n",
      "weighted avg       0.64      0.61      0.61       200\n",
      "\n"
     ]
    }
   ],
   "source": [
    "# Created an object for the sentiment analyzer\n",
    "sia = SentimentIntensityAnalyzer()\n",
    "\n",
    "# Processed positive reviews\n",
    "positive_folder = 'PositiveReviews100'\n",
    "positive_reviews = []\n",
    "\n",
    "for file in os.listdir(positive_folder)[:100]:\n",
    "    with open(os.path.join(positive_folder, file), 'r', encoding='utf-8') as f:\n",
    "        review = f.read()\n",
    "        positive_reviews.append(review)\n",
    "\n",
    "# Processed negative reviews\n",
    "negative_folder = 'NegativeReviews100'\n",
    "negative_reviews = []\n",
    "\n",
    "for file in os.listdir(negative_folder)[:100]:\n",
    "    with open(os.path.join(negative_folder, file), 'r', encoding='utf-8') as f:\n",
    "        review = f.read()\n",
    "        negative_reviews.append(review)\n",
    "\n",
    "# Tested positive reviews\n",
    "positive_sentiments = []\n",
    "\n",
    "for review in positive_reviews:\n",
    "    sentiment = sia.polarity_scores(review)\n",
    "    if sentiment['compound'] > 0.5:\n",
    "        positive_sentiments.append('positive')\n",
    "    elif sentiment['compound'] < -0.5:\n",
    "        positive_sentiments.append('negative')\n",
    "    else:\n",
    "        positive_sentiments.append('neutral')\n",
    "\n",
    "# Tested negative reviews\n",
    "negative_sentiments = []\n",
    "\n",
    "for review in negative_reviews:\n",
    "    sentiment = sia.polarity_scores(review)\n",
    "    if sentiment['compound'] > 0.5:\n",
    "        negative_sentiments.append('positive')\n",
    "    elif sentiment['compound'] < -0.5:\n",
    "        negative_sentiments.append('negative')\n",
    "    else:\n",
    "        negative_sentiments.append('neutral')\n",
    "\n",
    "# Combined positive and negative reviews and sentiments\n",
    "reviews = positive_reviews + negative_reviews\n",
    "sentiments = positive_sentiments + negative_sentiments\n",
    "true_sentiments = ['positive']*100 + ['negative']*100\n",
    "\n",
    "# Computed accuracy score\n",
    "accuracy = accuracy_score(true_sentiments, sentiments)\n",
    "print('Accuracy:', round(accuracy * 100, 2), '%')\n",
    "\n",
    "# Printed classification report\n",
    "print(classification_report(true_sentiments, sentiments, zero_division=1))\n"
   ]
  },
  {
   "cell_type": "code",
   "execution_count": 3,
   "id": "9ec18073",
   "metadata": {},
   "outputs": [],
   "source": [
    "#Created an object for the first misclassified review\n",
    "ReviewA = negative_reviews[17]"
   ]
  },
  {
   "cell_type": "code",
   "execution_count": 4,
   "id": "e745c626",
   "metadata": {},
   "outputs": [
    {
     "data": {
      "text/plain": [
       "'so what do you get when you mix together plot elements from various successful sci-fi films such as close encounters of the third kind , 2001 : a space odyssey , apollo 13 and contact ? \\nwell , whatever it is , you\\'d sure as hell hope that it would be a thousand times better than this shoddy attempt at such a melange , considering the disastrous results we\\'re left with here . \\nthis is a film that takes a little bit of everything , but ultimately adds up to a lot of nothing ! \\nit\\'s like i said . . . this \\nmovie sucks . \\nplot : a rescue crew of astronauts is sent down to mars in the year 2020 , after an unknown energy force leads to a loss of contact with the previous gang of space aviators to visit the red planet . \\ncritique : extremely underwhelming is the best way to describe this movie . \\nuneven , would be another . \\nthe trailer for this movie actually showed some promise , the buzz around it had been so-so , and even the film itself starts off with a decent first twenty minutes , all leading you to believe that it\\'s actually going to go \" somewhere \" . \\nbut it isn\\'t long before the entire movie downshifts into neutral , features more space walks than anything interesting on the cherry-colored planet , tries too hard to get us into the \" pain \" of some its characters and unsuccessfully tosses some romance into the mix . \\nin a sci-fi movie ? \\nwell , i don\\'t know , much of it just seemed like a bunch of nerdies talking techie jargon for about an hour and a half , only to figure out some big secret in the end , a secret which practically had me yawning with excitement . \\nultimately , this is a movie that starts off with a decent premise , joins the crew in their \" misadventures in space \" for the main crux of its journey , and eventually settles down for one of the most anti-climactic endings this side of contact . \\nmind you , if you enjoyed that film\\'s shrug-of-the-shoulders ending , you might just enjoy this frivolous ditty as well . \\nof course , i don\\'t remember contact having such obvious and painfully distracting computer generated effects at its end of story . \\nugh . \\nwhat a friggin\\' mess . \\nfilms like this generally get me wondering about the brass in hollywood again . \\ndidn\\'t anybody recognize the crappiness in this script ? \\ndidn\\'t they read the bad dialogue , the cheezy lines , the obvious derivative nature of the work ( mind you , with a director like depalma at the helm , that ain\\'t saying much ! ) . \\nof course , you can\\'t really blame the brass for the inclusion of jerry o\\'connell in this fine crew of thespians . \\n\\'nuff said . \\nneither can you blame them for depalma cranking up the juice on the film\\'s musical score during the last fifteen minutes , presumably in order to wake the audience up ( okay , we get it brian , this scene is supposed to be powerful . . . wow . . . yawn . . . my \\nears hurt ! ) . \\nso is anything salvageable in this movie ? \\nsure . \\ngary sinise does another great job , as does cheadle , the film doesn\\'t completely bore you as much as it just moves along slowly without anything really interesting happening , and yes , the \" sand-twister \" effect that you see in the commercial is well done . \\nother than that ? \\ni guess i could say that i admire how filmmakers have become so much more devious in their product placement strategies . . . oops , \\ndid i say \" admire \" , i meant \" am disgusted \" ! \\nall in all , this movie delivers very little in actual substance , offers two-bit dialogue masked in a lot of sci-fi mumbo-jumbo , pretends to be deep when really it\\'s just sappy , and eventually just settles into an ending which , other than presenting us with a pathetic computer graphic as a part of the story , gives us little more to think about than how we might be able to get our money back for sitting through this rehashed dreck . \\ngo see the ninth gate . . . now \\nthere\\'s a great movie ! \\nand on a personal note , i think it\\'s time for depalma to stop worrying so much about his proverbial 12-minute uninterrupted film sequences , and start worrying more about how crappy his movies are getting . \\n'"
      ]
     },
     "execution_count": 4,
     "metadata": {},
     "output_type": "execute_result"
    }
   ],
   "source": [
    "ReviewA"
   ]
  },
  {
   "cell_type": "code",
   "execution_count": 5,
   "id": "b0f744e6",
   "metadata": {},
   "outputs": [],
   "source": [
    "#Analyzed the sentiment of the first misclassified review\n",
    "SentimentA = sia.polarity_scores(ReviewA)"
   ]
  },
  {
   "cell_type": "code",
   "execution_count": 6,
   "id": "831cd31d",
   "metadata": {},
   "outputs": [
    {
     "data": {
      "text/plain": [
       "{'neg': 0.107, 'neu': 0.753, 'pos': 0.14, 'compound': 0.9807}"
      ]
     },
     "execution_count": 6,
     "metadata": {},
     "output_type": "execute_result"
    }
   ],
   "source": [
    "#Compound is extremely positive even though the review is negative\n",
    "SentimentA"
   ]
  },
  {
   "cell_type": "code",
   "execution_count": 7,
   "id": "654b7608",
   "metadata": {},
   "outputs": [],
   "source": [
    "#Created an object for the second misclassified review\n",
    "ReviewB = positive_reviews[9]"
   ]
  },
  {
   "cell_type": "code",
   "execution_count": 8,
   "id": "380816f6",
   "metadata": {},
   "outputs": [
    {
     "data": {
      "text/plain": [
       "\"the american action film has been slowly drowning to death in a sea of asian wire-fu copycats . \\nit's not a pretty death , and it's leaving the likes of schwartznager , stallone , and van damme wearing cement galoshes at the bottom of a kung fu sea . \\nsometimes , the mix results in a mind-blowing spectacle unlike any other . \\nquality action with amazing and exciting stunt work , as in 1999's the matrix , can be a real gem . \\nbut too often hollywood gets it wrong , even when they pay off chinese directors . \\nflying ninjas and floating karate masters have been replaced by soaring bronx detectives and slow motion kicking scientists . \\nmostly it's laughable . \\nin hollywood's rush to emulate the success of the matrix , trademark asian stunt choreography has become more of a joke than an art form . \\nbut iron monkey , the latest asian import , shows us how to get it right . \\niron monkey ( actually a reissue of a 1993 film ) is the story of a 19th chinese vigilante ( rongguang yu ) , fighting with his own unique style of shaolin kung fu for the rights of the oppressed and the bellies of the hungry . \\nbut it is also a piece of the narrative of legendary chinese film hero wong fei-hong , most recently seen in one of the most overlooked , and possibly best films of 2000 , drunken master 2 ( released in the u . s . as the legend of drunken master ) . \\nunlike drunken master 2 , which stars jackie chan as an adult fei-hong , iron monkey finds a much younger fei-hong ( sze-man tsang ) and his father wong kei-ying ( yen chi dan ) thrust into the middle of iron monkey's fight against oppression . \\niron monkey succeeds as no kung fu film since drunken master 2 . at times , fighting styles , especially that of monkey himself , do devolve into the ridiculous twinkle-toed floating of films like crouching tiger , hidden dragon , director yuen wo ping eventually remembers to bring his action scenes back to earth . \\niron monkey is at its heart a hardcore , kung fu action film rather than any kind of drama a la crouching tiger . \\nhowever , there are brief moments of profoundness shared between characters , such as those that pass between our outlaw hero and his good-hearted but misguided enemy , chief fox . \\nin those moments , and in others , iron monkey manages to transcend its mindless kung fu nature to touch the hearts and minds of its audience . \\nwhile in no way the equal of a masterpiece like drunken master 2 , iron monkey dances quite nicely to the invading kung fu tune . \\naka siunin wong fei-hung tsi titmalau . \\n\""
      ]
     },
     "execution_count": 8,
     "metadata": {},
     "output_type": "execute_result"
    }
   ],
   "source": [
    "ReviewB"
   ]
  },
  {
   "cell_type": "code",
   "execution_count": 9,
   "id": "5be68ff2",
   "metadata": {},
   "outputs": [],
   "source": [
    "#Analyzed the sentiment of the second misclassified review\n",
    "SentimentB = sia.polarity_scores(ReviewB)"
   ]
  },
  {
   "cell_type": "code",
   "execution_count": 14,
   "id": "13fef6dd",
   "metadata": {},
   "outputs": [
    {
     "data": {
      "text/plain": [
       "{'neg': 0.161, 'neu': 0.729, 'pos': 0.11, 'compound': -0.9813}"
      ]
     },
     "execution_count": 14,
     "metadata": {},
     "output_type": "execute_result"
    }
   ],
   "source": [
    "#Compound is extremely negative even though the review is positive\n",
    "SentimentB"
   ]
  },
  {
   "cell_type": "code",
   "execution_count": 10,
   "id": "2d191f85",
   "metadata": {},
   "outputs": [],
   "source": [
    "#Created an object for the third misclassified review\n",
    "ReviewC = positive_reviews[13]"
   ]
  },
  {
   "cell_type": "code",
   "execution_count": 11,
   "id": "a7bcd108",
   "metadata": {},
   "outputs": [
    {
     "data": {
      "text/plain": [
       "\"synopsis : in this movie , steven spielberg , one of today's finest directors , attempts to spice up the 1800s story of a long courtroom battle over the fate of prisoner cinque ( djimon hounsou ) - - a young angry man from sierra leone who was kidnapped into slavery - - and his fellow prisoners . \\ncinque and friends have landed a ship on the shores of america after escaping spanish slave traders , but since the americans don't speak cinque's language , the black men are hauled into court to determine whether or not they are legally slaves . \\ntechnically , since the international slave trade was outlawed at that time , people like cinque couldn't be kidnapped into slavery ; one had to be born a slave to be legally considered a slave . \\nlawyers baldwin and adams ( matthew mcconaughey and anthony hopkins ) must prove cinque and the others were captured into slavery , rather than born slaves , in order to get them out of prison as free men . \\nthree lengthy court cases are portrayed with spielberg's trademark panache - - flashy beginning , lots of facial close-ups , big music , and dramatic imagery . \\na final speech by adams is followed by an anticlimax where subtitles show what eventually happened to the various characters . \\nopinion : making a fictional movie is easier than making one about real life . \\nin fiction , one invents purposeful , clear-cut good guys and bad guys , puts the fictional characters in conflict , and takes the tale to its exciting conclusion . \\nreal life , however , consists of long stretches of boredom with a few dramatic moments and characters who stand around , think thoughts and do nothing , or come and go before events are resolved . \\nspielberg gives us a visually spicy and historically accurate real life story . \\ndjimon hounsou and anthony hopkins turn in excellent performances . \\n\""
      ]
     },
     "execution_count": 11,
     "metadata": {},
     "output_type": "execute_result"
    }
   ],
   "source": [
    "ReviewC"
   ]
  },
  {
   "cell_type": "code",
   "execution_count": 12,
   "id": "2c01a4f7",
   "metadata": {},
   "outputs": [],
   "source": [
    "#Analyzed the sentiment of the third misclassified review\n",
    "SentimentC = sia.polarity_scores(ReviewC)"
   ]
  },
  {
   "cell_type": "code",
   "execution_count": 13,
   "id": "f177a200",
   "metadata": {},
   "outputs": [
    {
     "data": {
      "text/plain": [
       "{'neg': 0.13, 'neu': 0.779, 'pos': 0.091, 'compound': -0.9159}"
      ]
     },
     "execution_count": 13,
     "metadata": {},
     "output_type": "execute_result"
    }
   ],
   "source": [
    "#Compound is extremely negative even though the review is positive\n",
    "SentimentC"
   ]
  }
 ],
 "metadata": {
  "kernelspec": {
   "display_name": "Python 3 (ipykernel)",
   "language": "python",
   "name": "python3"
  },
  "language_info": {
   "codemirror_mode": {
    "name": "ipython",
    "version": 3
   },
   "file_extension": ".py",
   "mimetype": "text/x-python",
   "name": "python",
   "nbconvert_exporter": "python",
   "pygments_lexer": "ipython3",
   "version": "3.9.13"
  }
 },
 "nbformat": 4,
 "nbformat_minor": 5
}
